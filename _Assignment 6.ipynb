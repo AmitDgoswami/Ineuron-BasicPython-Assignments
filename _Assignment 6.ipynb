{
 "cells": [
  {
   "cell_type": "markdown",
   "id": "1a23e560",
   "metadata": {},
   "source": [
    "1.What are Escape characters ? and how do you use them ?\n",
    "\n",
    "Ans: Escape characters represent characters in string values that would otherwise be difficult or impossible to type into code. we can use the backslash character to escape a single character or symbol\n",
    "\n",
    "epl:\\t, \\n\n"
   ]
  },
  {
   "cell_type": "code",
   "execution_count": 5,
   "id": "169fbae4",
   "metadata": {},
   "outputs": [
    {
     "data": {
      "text/plain": [
       "'This is my 6th assignment of  \"Python basic\" from iNeuron. '"
      ]
     },
     "execution_count": 5,
     "metadata": {},
     "output_type": "execute_result"
    }
   ],
   "source": [
    "txt = \"This is my 6th assignment of  \\\"Python basic\\\" from iNeuron. \"\n",
    "txt"
   ]
  },
  {
   "cell_type": "markdown",
   "id": "0f09178a",
   "metadata": {},
   "source": [
    "2.What do the escape characters n and t stand for ?\n",
    "\n",
    "Ans: \\n is a newline, \\t is a tab"
   ]
  },
  {
   "cell_type": "code",
   "execution_count": 6,
   "id": "bae346c0",
   "metadata": {},
   "outputs": [
    {
     "name": "stdout",
     "output_type": "stream",
     "text": [
      "Hello\n",
      "World!\n",
      "Hello\n",
      "World!\n"
     ]
    }
   ],
   "source": [
    "txt = \"Hello\\nWorld!\"\n",
    "print(txt) \n",
    "\n",
    "txt1 = \"Hello\\tWorld!\"\n",
    "print(txt) "
   ]
  },
  {
   "cell_type": "markdown",
   "id": "ed4e042d",
   "metadata": {},
   "source": [
    "3.What is the way to include backslash character in a string?\n",
    "\n",
    "Ans: The \\\\ escape character will represent the backslash character in a string"
   ]
  },
  {
   "cell_type": "markdown",
   "id": "e40d8a76",
   "metadata": {},
   "source": [
    "4.The string \"Howl's Moving Castle\" is a correct value. Why isn't the single quote character in the word Howl's not escaped a problem ?\n",
    "\n",
    "Ans: The string \"Howl's Moving Castle\" escaped the problem because it is wrapped inside double quotes. if its wrapped inside single quotes then we have to use escape character \\' to show single quote in the final output\n",
    "'Howl\\'s Moving Castle' -> 'Howl's Moving Castle'"
   ]
  },
  {
   "cell_type": "markdown",
   "id": "d30691fc",
   "metadata": {},
   "source": [
    "5.How do you write a string of newlines if you don't want to use the n character?\n",
    "\n",
    "Ans: Multiline string allow you to use newlines in string without the \\n escape character"
   ]
  },
  {
   "cell_type": "code",
   "execution_count": 8,
   "id": "585f7ce5",
   "metadata": {},
   "outputs": [
    {
     "name": "stdout",
     "output_type": "stream",
     "text": [
      "This is my 6th Assignment\n",
      "of Python basic\n"
     ]
    }
   ],
   "source": [
    "a = '''This is my 6th Assignment\n",
    "of Python basic'''\n",
    "print(a)"
   ]
  },
  {
   "cell_type": "markdown",
   "id": "e08d4e8c",
   "metadata": {},
   "source": [
    "6.What are the values of the given expressions ?\n",
    "'Hello, world!'[1]\n",
    "'Hello, world!'[0:5]\n",
    "'Hello, world!'[:5]\n",
    "'Hello, world!'[3:]\n",
    "\n",
    "Ans: The values for the given expressions are:\n",
    "'Hello, world!'[1] -> 'e'\n",
    "'Hello, world!'[0:5] -> 'Hello'\n",
    "'Hello, world!'[:5] -> 'Hello'\n",
    "'Hello, world!'[3:] -> 'lo, world!'"
   ]
  },
  {
   "cell_type": "markdown",
   "id": "a467c8d0",
   "metadata": {},
   "source": [
    "7.What are the values of the following expressions ?\n",
    "'Hello'.upper()\n",
    "'Hello'.upper().isupper()\n",
    "'Hello'.upper().lower()\n",
    "\n",
    "Ans: The values for the given expressions are:\n",
    "'Hello'.upper() -> 'HELLO'\n",
    "'Hello'.upper().isupper() -> True\n",
    "'Hello'.upper().lower() -> 'hello'"
   ]
  },
  {
   "cell_type": "markdown",
   "id": "7acbf3c7",
   "metadata": {},
   "source": [
    "8.What are the values of the following expressions ?\n",
    "'Remember, remember, the fifith of July.'.split()\n",
    "-'.join('There can only one'.split())\n",
    "\n",
    "Ans: The values for the given expressions are:\n",
    "'Remember, remember, the fifith of July.'.split() -> ['Remember,', 'remember,', 'the', 'fifith', 'of', 'July.']\n",
    "'-'.join('There can only one'.split()) -> 'There-can-only-one'"
   ]
  },
  {
   "cell_type": "markdown",
   "id": "7bacb5ad",
   "metadata": {},
   "source": [
    "9.What are the methods for right-justifying, left-justifying and centering a string ?\n",
    "\n",
    "Ans: The rjust(),ljust(),center() string methods, respectively\n",
    "\n",
    "str.ljust(s, width[, fillchar])\n",
    "\n",
    "str.rjust(s, width[, fillchar])\n",
    "\n",
    "str.center(s, width[, fillchar])"
   ]
  },
  {
   "cell_type": "markdown",
   "id": "3b4b5c9f",
   "metadata": {},
   "source": [
    "10.What is the best way to remove whitespace characters from the start or end ?\n",
    "\n",
    "Ans: The lstrip() and rstrip() methods remove whitesapce characters from the left and right ends of a string respectively"
   ]
  },
  {
   "cell_type": "code",
   "execution_count": 9,
   "id": "55f73b19",
   "metadata": {},
   "outputs": [
    {
     "name": "stdout",
     "output_type": "stream",
     "text": [
      " String after stripping all '-' is : iNeuron\n",
      " String after stripping all leading '-' is : iNeuron---\n",
      " String after stripping all trailing '-' is : ---iNeuron\n"
     ]
    }
   ],
   "source": [
    "str = \"---iNeuron---\"\n",
    " \n",
    "\n",
    "print ( \" String after stripping all '-' is : \", end=\"\")\n",
    "print ( str.strip('-') )\n",
    " \n",
    "\n",
    "print ( \" String after stripping all leading '-' is : \", end=\"\")\n",
    "print ( str.lstrip('-') )\n",
    " \n",
    "\n",
    "print ( \" String after stripping all trailing '-' is : \", end=\"\")\n",
    "print ( str.rstrip('-') )"
   ]
  },
  {
   "cell_type": "code",
   "execution_count": null,
   "id": "244da880",
   "metadata": {},
   "outputs": [],
   "source": []
  }
 ],
 "metadata": {
  "kernelspec": {
   "display_name": "Python 3 (ipykernel)",
   "language": "python",
   "name": "python3"
  },
  "language_info": {
   "codemirror_mode": {
    "name": "ipython",
    "version": 3
   },
   "file_extension": ".py",
   "mimetype": "text/x-python",
   "name": "python",
   "nbconvert_exporter": "python",
   "pygments_lexer": "ipython3",
   "version": "3.9.7"
  }
 },
 "nbformat": 4,
 "nbformat_minor": 5
}
